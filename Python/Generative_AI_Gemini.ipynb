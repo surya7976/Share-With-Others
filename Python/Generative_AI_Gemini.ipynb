{
  "cells": [
    {
      "cell_type": "code",
      "execution_count": null,
      "metadata": {
        "id": "LuSRu90vhG9U"
      },
      "outputs": [],
      "source": [
        "from google.colab import userdata\n",
        "key=userdata.get('gemini_key')"
      ]
    },
    {
      "cell_type": "code",
      "execution_count": null,
      "metadata": {
        "id": "CzCv4iZzXrAe"
      },
      "outputs": [],
      "source": [
        "import google.generativeai as genai\n",
        "genai.configure(api_key=key)\n",
        "\n",
        "def Generate_Content(prompt):\n",
        "   model = genai.GenerativeModel('gemini-pro')\n",
        "   chat = model.start_chat(history=[])\n",
        "\n",
        "   response = chat.send_message(prompt)\n",
        "   gemini_response = response.text\n",
        "   return gemini_response"
      ]
    },
    {
      "cell_type": "code",
      "execution_count": null,
      "metadata": {
        "colab": {
          "base_uri": "https://localhost:8080/",
          "height": 434
        },
        "id": "_cHvkF95wD2x",
        "outputId": "e823569e-0578-41c7-e52e-5077bea7883b"
      },
      "outputs": [
        {
          "output_type": "stream",
          "name": "stdout",
          "text": [
            "**Jobs Related to Accounting, Teaching, Answer Sheet Correction, Product Reviews**\n",
            "\n",
            "* **Virtual Accountant:** Assist businesses with their accounting needs, such as bookkeeping, invoicing, and financial reporting.\n",
            "* **Online Tutor:** Provide academic support to students in various subjects.\n",
            "* **Answer Sheet Correction:** Evaluate and score answer sheets for exams and assessments.\n",
            "* **Product Reviewer:** Give feedback on products and services, sharing your experiences and opinions online.\n",
            "\n",
            "**Other Suitable Jobs for Housemakers in Hyderabad**\n",
            "\n",
            "* **Customer Service Representative:** Handle customer inquiries and provide support via phone, email, or chat.\n",
            "* **Data Entry Specialist:** Enter data into computer systems accurately and efficiently.\n",
            "* **Virtual Assistant:** Provide administrative, technical, or creative support to clients remotely.\n",
            "* **Transcriptionist:** Convert audio or video recordings into written text.\n",
            "* **Social Media Manager:** Manage social media accounts for businesses or individuals, creating engaging content and running campaigns.\n",
            "* **Content Writer:** Create written content for websites, blogs, articles, and more.\n",
            "\n",
            "**Organizations that Can Help in Getting These Jobs**\n",
            "\n",
            "* **Naukri.com:** A leading job search portal that offers a wide range of work-from-home opportunities.\n",
            "* **Indeed.com:** Another popular job search platform with a dedicated section for remote jobs.\n",
            "* **FlexJobs:** A website that specializes in curated listings of legitimate work-from-home positions.\n",
            "* **Upwork:** A freelance marketplace where housemakers can find short-term or long-term projects in various fields.\n",
            "* **Fiverr:** Similar to Upwork, but with a focus on offering micro-services or \"gigs.\"\n",
            "* **Local employment agencies:** Some staffing agencies in Hyderabad may assist with finding work-from-home opportunities.\n"
          ]
        }
      ],
      "source": [
        "prompt = f\"\"\"\n",
        "What are the jobs that can be done from home by house makers in Hyderabad?\n",
        "suggest ones related to accounting, teaching, answer sheet correction, product reviews etc.\n",
        "also suggest what other jobs are good for house makers in hyderabad.\n",
        "suggest any organisations that can help in getting these jobs.\n",
        "\"\"\"\n",
        "\n",
        "prompt1 = f\"\"\"\n",
        "Write a program to check if a number is prime or not\n",
        "\"\"\"\n",
        "\n",
        "response = Generate_Content(prompt)\n",
        "print(response)\n",
        "\n",
        "f=open('jobs.txt','w')\n",
        "f.write(response)\n",
        "f.close()"
      ]
    },
    {
      "cell_type": "markdown",
      "metadata": {
        "id": "_LZR11TLLdzO"
      },
      "source": [
        "### Prompt engineering"
      ]
    },
    {
      "cell_type": "markdown",
      "metadata": {
        "id": "6sxx_slyQG3s"
      },
      "source": [
        "**Deriving Inference**"
      ]
    },
    {
      "cell_type": "code",
      "execution_count": null,
      "metadata": {
        "id": "pNE9sHzcQVtu"
      },
      "outputs": [],
      "source": [
        "review1 = \"\"\"\n",
        "The cashier had no care what so ever on what I had to\n",
        "say it still ended up being wayyy overpriced.\n",
        "\"\"\""
      ]
    },
    {
      "cell_type": "code",
      "execution_count": null,
      "metadata": {
        "colab": {
          "base_uri": "https://localhost:8080/",
          "height": 34
        },
        "id": "64ljpvCSRRKb",
        "outputId": "a1de2cb3-ab2c-4251-daac-412ec4a58153"
      },
      "outputs": [
        {
          "name": "stdout",
          "output_type": "stream",
          "text": [
            "Negative\n"
          ]
        }
      ],
      "source": [
        "prompt = f\"\"\"\n",
        "What is the sentiment of the following product review,\n",
        "which is delimited with triple backticks?\n",
        "Review text: '''{review1}'''\n",
        "\"\"\"\n",
        "response = Generate_Content(prompt)\n",
        "print(response)"
      ]
    },
    {
      "cell_type": "code",
      "execution_count": null,
      "metadata": {
        "colab": {
          "base_uri": "https://localhost:8080/",
          "height": 34
        },
        "id": "4LzFqeBORZDF",
        "outputId": "074a12c0-7977-49e6-ebb1-a175bc2b2a79"
      },
      "outputs": [
        {
          "name": "stdout",
          "output_type": "stream",
          "text": [
            "- frustration, anger, disappointment\n"
          ]
        }
      ],
      "source": [
        "prompt = f\"\"\"\n",
        "Identify a list of emotions that the writer of the \\\n",
        "following review is expressing. Include no more than \\\n",
        "five items in the list. Format your answer as a list of \\\n",
        "lower-case words separated by commas.\n",
        "\n",
        "Review text: '''{review1}'''\n",
        "\"\"\"\n",
        "response = Generate_Content(prompt)\n",
        "print(response)"
      ]
    },
    {
      "cell_type": "code",
      "execution_count": null,
      "metadata": {
        "colab": {
          "base_uri": "https://localhost:8080/",
          "height": 34
        },
        "id": "Mm9Rh7B7RdBT",
        "outputId": "2255e7fd-c81b-4e93-a4e6-e7ba469d21e9"
      },
      "outputs": [
        {
          "name": "stdout",
          "output_type": "stream",
          "text": [
            "yes\n"
          ]
        }
      ],
      "source": [
        "prompt = f\"\"\"\n",
        "Is the writer of the following review expressing anger?\\\n",
        "The review is delimited with triple backticks. \\\n",
        "Give your answer as either yes or no.\n",
        "\n",
        "Review text: '''{review1}'''\n",
        "\"\"\"\n",
        "response = Generate_Content(prompt)\n",
        "print(response)"
      ]
    },
    {
      "cell_type": "markdown",
      "metadata": {
        "id": "U_ndzo9xSgH_"
      },
      "source": [
        "**Expanding**"
      ]
    },
    {
      "cell_type": "code",
      "execution_count": null,
      "metadata": {
        "colab": {
          "base_uri": "https://localhost:8080/",
          "height": 245
        },
        "id": "YqxNkattS2OR",
        "outputId": "02e6dc0e-0516-4801-8c4c-d4b3c7696e77"
      },
      "outputs": [
        {
          "name": "stdout",
          "output_type": "stream",
          "text": [
            "Dear [Customer Name],\n",
            "\n",
            "Thank you for sharing your feedback regarding your recent shopping experience.\n",
            "\n",
            "We appreciate that you brought this matter to our attention. We understand that you had a negative experience with our cashier, and we apologize for any inconvenience this may have caused.\n",
            "\n",
            "We value your patronage and strive to provide excellent customer service. We would welcome the opportunity to discuss this further with you in person. Please feel free to reach out to our customer service team via phone or email at your convenience.\n",
            "\n",
            "Thank you for your continued support.\n",
            "\n",
            "Sincerely,\n",
            "AI Customer Agent\n"
          ]
        }
      ],
      "source": [
        "prompt = f\"\"\"\n",
        "You are a customer service AI assistant.\n",
        "Your task is to send an email reply to a valued customer.\n",
        "Given the customer email delimited by ```, \\\n",
        "Generate a reply to thank the customer for their review.\n",
        "If the sentiment is positive or neutral, thank them for \\\n",
        "their review.\n",
        "If the sentiment is negative, apologize and suggest that \\\n",
        "they can reach out to customer service.\n",
        "Make sure to use specific details from the review.\n",
        "Write in a concise and professional tone.\n",
        "Sign the email as `AI customer agent`.\n",
        "Customer review: ```{review1}```\n",
        "\"\"\"\n",
        "response = Generate_Content(prompt)\n",
        "print(response)"
      ]
    }
  ],
  "metadata": {
    "colab": {
      "provenance": []
    },
    "kernelspec": {
      "display_name": "Python 3",
      "name": "python3"
    },
    "language_info": {
      "name": "python"
    }
  },
  "nbformat": 4,
  "nbformat_minor": 0
}